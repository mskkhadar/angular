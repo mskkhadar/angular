{
 "cells": [
  {
   "cell_type": "code",
   "execution_count": 1,
   "id": "c227b051",
   "metadata": {
    "_cell_guid": "b1076dfc-b9ad-4769-8c92-a6c4dae69d19",
    "_uuid": "8f2839f25d086af736a60e9eeb907d3b93b6e0e5",
    "execution": {
     "iopub.execute_input": "2022-12-12T20:51:01.112612Z",
     "iopub.status.busy": "2022-12-12T20:51:01.112129Z",
     "iopub.status.idle": "2022-12-12T20:51:01.126260Z",
     "shell.execute_reply": "2022-12-12T20:51:01.125339Z"
    },
    "papermill": {
     "duration": 0.029332,
     "end_time": "2022-12-12T20:51:01.128543",
     "exception": false,
     "start_time": "2022-12-12T20:51:01.099211",
     "status": "completed"
    },
    "tags": []
   },
   "outputs": [
    {
     "data": {
      "text/plain": [
       "['machine-predictive-maintenance-classification']"
      ]
     },
     "execution_count": 1,
     "metadata": {},
     "output_type": "execute_result"
    }
   ],
   "source": [
    "import numpy as np \n",
    "import pandas as pd \n",
    "import os\n",
    "os.listdir('/kaggle/input')\n"
   ]
  },
  {
   "cell_type": "code",
   "execution_count": 2,
   "id": "68ddbc65",
   "metadata": {
    "execution": {
     "iopub.execute_input": "2022-12-12T20:51:01.150017Z",
     "iopub.status.busy": "2022-12-12T20:51:01.149208Z",
     "iopub.status.idle": "2022-12-12T20:51:01.160339Z",
     "shell.execute_reply": "2022-12-12T20:51:01.159116Z"
    },
    "papermill": {
     "duration": 0.025239,
     "end_time": "2022-12-12T20:51:01.163434",
     "exception": false,
     "start_time": "2022-12-12T20:51:01.138195",
     "status": "completed"
    },
    "tags": []
   },
   "outputs": [],
   "source": [
    "stuDicti={\n",
    "    'name': ['Kane','Johnny','K'],\n",
    "    'makrs': ['90','28','69'],\n",
    "    'places': ['UK','India','Japan']\n",
    "}"
   ]
  },
  {
   "cell_type": "code",
   "execution_count": 3,
   "id": "98ababd5",
   "metadata": {
    "execution": {
     "iopub.execute_input": "2022-12-12T20:51:01.183469Z",
     "iopub.status.busy": "2022-12-12T20:51:01.183040Z",
     "iopub.status.idle": "2022-12-12T20:51:01.199258Z",
     "shell.execute_reply": "2022-12-12T20:51:01.197742Z"
    },
    "papermill": {
     "duration": 0.02942,
     "end_time": "2022-12-12T20:51:01.201979",
     "exception": false,
     "start_time": "2022-12-12T20:51:01.172559",
     "status": "completed"
    },
    "tags": []
   },
   "outputs": [],
   "source": [
    "stuDF= pd.DataFrame(stuDicti)"
   ]
  },
  {
   "cell_type": "code",
   "execution_count": 4,
   "id": "848eb0bd",
   "metadata": {
    "execution": {
     "iopub.execute_input": "2022-12-12T20:51:01.222071Z",
     "iopub.status.busy": "2022-12-12T20:51:01.221609Z",
     "iopub.status.idle": "2022-12-12T20:51:01.244165Z",
     "shell.execute_reply": "2022-12-12T20:51:01.242322Z"
    },
    "papermill": {
     "duration": 0.035881,
     "end_time": "2022-12-12T20:51:01.247023",
     "exception": false,
     "start_time": "2022-12-12T20:51:01.211142",
     "status": "completed"
    },
    "tags": []
   },
   "outputs": [
    {
     "data": {
      "text/html": [
       "<div>\n",
       "<style scoped>\n",
       "    .dataframe tbody tr th:only-of-type {\n",
       "        vertical-align: middle;\n",
       "    }\n",
       "\n",
       "    .dataframe tbody tr th {\n",
       "        vertical-align: top;\n",
       "    }\n",
       "\n",
       "    .dataframe thead th {\n",
       "        text-align: right;\n",
       "    }\n",
       "</style>\n",
       "<table border=\"1\" class=\"dataframe\">\n",
       "  <thead>\n",
       "    <tr style=\"text-align: right;\">\n",
       "      <th></th>\n",
       "      <th>name</th>\n",
       "      <th>makrs</th>\n",
       "      <th>places</th>\n",
       "    </tr>\n",
       "  </thead>\n",
       "  <tbody>\n",
       "    <tr>\n",
       "      <th>0</th>\n",
       "      <td>Kane</td>\n",
       "      <td>90</td>\n",
       "      <td>UK</td>\n",
       "    </tr>\n",
       "    <tr>\n",
       "      <th>1</th>\n",
       "      <td>Johnny</td>\n",
       "      <td>28</td>\n",
       "      <td>India</td>\n",
       "    </tr>\n",
       "    <tr>\n",
       "      <th>2</th>\n",
       "      <td>K</td>\n",
       "      <td>69</td>\n",
       "      <td>Japan</td>\n",
       "    </tr>\n",
       "  </tbody>\n",
       "</table>\n",
       "</div>"
      ],
      "text/plain": [
       "     name makrs places\n",
       "0    Kane    90     UK\n",
       "1  Johnny    28  India\n",
       "2       K    69  Japan"
      ]
     },
     "execution_count": 4,
     "metadata": {},
     "output_type": "execute_result"
    }
   ],
   "source": [
    "stuDF"
   ]
  },
  {
   "cell_type": "code",
   "execution_count": 5,
   "id": "502dcf12",
   "metadata": {
    "execution": {
     "iopub.execute_input": "2022-12-12T20:51:01.269752Z",
     "iopub.status.busy": "2022-12-12T20:51:01.269306Z",
     "iopub.status.idle": "2022-12-12T20:51:01.277817Z",
     "shell.execute_reply": "2022-12-12T20:51:01.276776Z"
    },
    "papermill": {
     "duration": 0.022657,
     "end_time": "2022-12-12T20:51:01.280860",
     "exception": false,
     "start_time": "2022-12-12T20:51:01.258203",
     "status": "completed"
    },
    "tags": []
   },
   "outputs": [],
   "source": [
    "stuDF.to_csv('stu.csv')"
   ]
  },
  {
   "cell_type": "markdown",
   "id": "48795fa9",
   "metadata": {
    "papermill": {
     "duration": 0.008954,
     "end_time": "2022-12-12T20:51:01.299959",
     "exception": false,
     "start_time": "2022-12-12T20:51:01.291005",
     "status": "completed"
    },
    "tags": []
   },
   "source": [
    "use to export dataframe into excel"
   ]
  },
  {
   "cell_type": "code",
   "execution_count": 6,
   "id": "7bb11ee5",
   "metadata": {
    "execution": {
     "iopub.execute_input": "2022-12-12T20:51:01.321053Z",
     "iopub.status.busy": "2022-12-12T20:51:01.319901Z",
     "iopub.status.idle": "2022-12-12T20:51:01.327000Z",
     "shell.execute_reply": "2022-12-12T20:51:01.325437Z"
    },
    "papermill": {
     "duration": 0.020485,
     "end_time": "2022-12-12T20:51:01.329794",
     "exception": false,
     "start_time": "2022-12-12T20:51:01.309309",
     "status": "completed"
    },
    "tags": []
   },
   "outputs": [],
   "source": [
    "stuDF.to_csv('stu.csv',index=False)"
   ]
  },
  {
   "cell_type": "code",
   "execution_count": 7,
   "id": "60efcfcb",
   "metadata": {
    "execution": {
     "iopub.execute_input": "2022-12-12T20:51:01.350755Z",
     "iopub.status.busy": "2022-12-12T20:51:01.350338Z",
     "iopub.status.idle": "2022-12-12T20:51:01.361426Z",
     "shell.execute_reply": "2022-12-12T20:51:01.360436Z"
    },
    "papermill": {
     "duration": 0.0245,
     "end_time": "2022-12-12T20:51:01.364022",
     "exception": false,
     "start_time": "2022-12-12T20:51:01.339522",
     "status": "completed"
    },
    "tags": []
   },
   "outputs": [
    {
     "data": {
      "text/html": [
       "<div>\n",
       "<style scoped>\n",
       "    .dataframe tbody tr th:only-of-type {\n",
       "        vertical-align: middle;\n",
       "    }\n",
       "\n",
       "    .dataframe tbody tr th {\n",
       "        vertical-align: top;\n",
       "    }\n",
       "\n",
       "    .dataframe thead th {\n",
       "        text-align: right;\n",
       "    }\n",
       "</style>\n",
       "<table border=\"1\" class=\"dataframe\">\n",
       "  <thead>\n",
       "    <tr style=\"text-align: right;\">\n",
       "      <th></th>\n",
       "      <th>name</th>\n",
       "      <th>makrs</th>\n",
       "      <th>places</th>\n",
       "    </tr>\n",
       "  </thead>\n",
       "  <tbody>\n",
       "    <tr>\n",
       "      <th>0</th>\n",
       "      <td>Kane</td>\n",
       "      <td>90</td>\n",
       "      <td>UK</td>\n",
       "    </tr>\n",
       "    <tr>\n",
       "      <th>1</th>\n",
       "      <td>Johnny</td>\n",
       "      <td>28</td>\n",
       "      <td>India</td>\n",
       "    </tr>\n",
       "  </tbody>\n",
       "</table>\n",
       "</div>"
      ],
      "text/plain": [
       "     name makrs places\n",
       "0    Kane    90     UK\n",
       "1  Johnny    28  India"
      ]
     },
     "execution_count": 7,
     "metadata": {},
     "output_type": "execute_result"
    }
   ],
   "source": [
    "stuDF.head(2)"
   ]
  },
  {
   "cell_type": "code",
   "execution_count": 8,
   "id": "9963aa06",
   "metadata": {
    "execution": {
     "iopub.execute_input": "2022-12-12T20:51:01.388523Z",
     "iopub.status.busy": "2022-12-12T20:51:01.387654Z",
     "iopub.status.idle": "2022-12-12T20:51:01.399716Z",
     "shell.execute_reply": "2022-12-12T20:51:01.398448Z"
    },
    "papermill": {
     "duration": 0.025973,
     "end_time": "2022-12-12T20:51:01.402279",
     "exception": false,
     "start_time": "2022-12-12T20:51:01.376306",
     "status": "completed"
    },
    "tags": []
   },
   "outputs": [
    {
     "data": {
      "text/html": [
       "<div>\n",
       "<style scoped>\n",
       "    .dataframe tbody tr th:only-of-type {\n",
       "        vertical-align: middle;\n",
       "    }\n",
       "\n",
       "    .dataframe tbody tr th {\n",
       "        vertical-align: top;\n",
       "    }\n",
       "\n",
       "    .dataframe thead th {\n",
       "        text-align: right;\n",
       "    }\n",
       "</style>\n",
       "<table border=\"1\" class=\"dataframe\">\n",
       "  <thead>\n",
       "    <tr style=\"text-align: right;\">\n",
       "      <th></th>\n",
       "      <th>name</th>\n",
       "      <th>makrs</th>\n",
       "      <th>places</th>\n",
       "    </tr>\n",
       "  </thead>\n",
       "  <tbody>\n",
       "    <tr>\n",
       "      <th>1</th>\n",
       "      <td>Johnny</td>\n",
       "      <td>28</td>\n",
       "      <td>India</td>\n",
       "    </tr>\n",
       "    <tr>\n",
       "      <th>2</th>\n",
       "      <td>K</td>\n",
       "      <td>69</td>\n",
       "      <td>Japan</td>\n",
       "    </tr>\n",
       "  </tbody>\n",
       "</table>\n",
       "</div>"
      ],
      "text/plain": [
       "     name makrs places\n",
       "1  Johnny    28  India\n",
       "2       K    69  Japan"
      ]
     },
     "execution_count": 8,
     "metadata": {},
     "output_type": "execute_result"
    }
   ],
   "source": [
    "stuDF.tail(2)"
   ]
  },
  {
   "cell_type": "code",
   "execution_count": 9,
   "id": "40496812",
   "metadata": {
    "execution": {
     "iopub.execute_input": "2022-12-12T20:51:01.424015Z",
     "iopub.status.busy": "2022-12-12T20:51:01.423211Z",
     "iopub.status.idle": "2022-12-12T20:51:01.450301Z",
     "shell.execute_reply": "2022-12-12T20:51:01.449316Z"
    },
    "papermill": {
     "duration": 0.040709,
     "end_time": "2022-12-12T20:51:01.452725",
     "exception": false,
     "start_time": "2022-12-12T20:51:01.412016",
     "status": "completed"
    },
    "tags": []
   },
   "outputs": [
    {
     "data": {
      "text/html": [
       "<div>\n",
       "<style scoped>\n",
       "    .dataframe tbody tr th:only-of-type {\n",
       "        vertical-align: middle;\n",
       "    }\n",
       "\n",
       "    .dataframe tbody tr th {\n",
       "        vertical-align: top;\n",
       "    }\n",
       "\n",
       "    .dataframe thead th {\n",
       "        text-align: right;\n",
       "    }\n",
       "</style>\n",
       "<table border=\"1\" class=\"dataframe\">\n",
       "  <thead>\n",
       "    <tr style=\"text-align: right;\">\n",
       "      <th></th>\n",
       "      <th>name</th>\n",
       "      <th>makrs</th>\n",
       "      <th>places</th>\n",
       "    </tr>\n",
       "  </thead>\n",
       "  <tbody>\n",
       "    <tr>\n",
       "      <th>count</th>\n",
       "      <td>3</td>\n",
       "      <td>3</td>\n",
       "      <td>3</td>\n",
       "    </tr>\n",
       "    <tr>\n",
       "      <th>unique</th>\n",
       "      <td>3</td>\n",
       "      <td>3</td>\n",
       "      <td>3</td>\n",
       "    </tr>\n",
       "    <tr>\n",
       "      <th>top</th>\n",
       "      <td>Kane</td>\n",
       "      <td>90</td>\n",
       "      <td>UK</td>\n",
       "    </tr>\n",
       "    <tr>\n",
       "      <th>freq</th>\n",
       "      <td>1</td>\n",
       "      <td>1</td>\n",
       "      <td>1</td>\n",
       "    </tr>\n",
       "  </tbody>\n",
       "</table>\n",
       "</div>"
      ],
      "text/plain": [
       "        name makrs places\n",
       "count      3     3      3\n",
       "unique     3     3      3\n",
       "top     Kane    90     UK\n",
       "freq       1     1      1"
      ]
     },
     "execution_count": 9,
     "metadata": {},
     "output_type": "execute_result"
    }
   ],
   "source": [
    "stuDF.describe()"
   ]
  },
  {
   "cell_type": "code",
   "execution_count": 10,
   "id": "8c896f48",
   "metadata": {
    "execution": {
     "iopub.execute_input": "2022-12-12T20:51:01.475049Z",
     "iopub.status.busy": "2022-12-12T20:51:01.474330Z",
     "iopub.status.idle": "2022-12-12T20:51:01.525848Z",
     "shell.execute_reply": "2022-12-12T20:51:01.524930Z"
    },
    "papermill": {
     "duration": 0.065734,
     "end_time": "2022-12-12T20:51:01.528387",
     "exception": false,
     "start_time": "2022-12-12T20:51:01.462653",
     "status": "completed"
    },
    "tags": []
   },
   "outputs": [],
   "source": [
    "mdf=pd.read_csv('../input/machine-predictive-maintenance-classification/predictive_maintenance.csv')"
   ]
  },
  {
   "cell_type": "code",
   "execution_count": 11,
   "id": "af10d163",
   "metadata": {
    "execution": {
     "iopub.execute_input": "2022-12-12T20:51:01.550772Z",
     "iopub.status.busy": "2022-12-12T20:51:01.549952Z",
     "iopub.status.idle": "2022-12-12T20:51:01.589200Z",
     "shell.execute_reply": "2022-12-12T20:51:01.587612Z"
    },
    "papermill": {
     "duration": 0.053832,
     "end_time": "2022-12-12T20:51:01.592447",
     "exception": false,
     "start_time": "2022-12-12T20:51:01.538615",
     "status": "completed"
    },
    "tags": []
   },
   "outputs": [
    {
     "data": {
      "text/html": [
       "<div>\n",
       "<style scoped>\n",
       "    .dataframe tbody tr th:only-of-type {\n",
       "        vertical-align: middle;\n",
       "    }\n",
       "\n",
       "    .dataframe tbody tr th {\n",
       "        vertical-align: top;\n",
       "    }\n",
       "\n",
       "    .dataframe thead th {\n",
       "        text-align: right;\n",
       "    }\n",
       "</style>\n",
       "<table border=\"1\" class=\"dataframe\">\n",
       "  <thead>\n",
       "    <tr style=\"text-align: right;\">\n",
       "      <th></th>\n",
       "      <th>UDI</th>\n",
       "      <th>Air temperature [K]</th>\n",
       "      <th>Process temperature [K]</th>\n",
       "      <th>Rotational speed [rpm]</th>\n",
       "      <th>Torque [Nm]</th>\n",
       "      <th>Tool wear [min]</th>\n",
       "      <th>Target</th>\n",
       "    </tr>\n",
       "  </thead>\n",
       "  <tbody>\n",
       "    <tr>\n",
       "      <th>count</th>\n",
       "      <td>10000.00000</td>\n",
       "      <td>10000.000000</td>\n",
       "      <td>10000.000000</td>\n",
       "      <td>10000.000000</td>\n",
       "      <td>10000.000000</td>\n",
       "      <td>10000.000000</td>\n",
       "      <td>10000.000000</td>\n",
       "    </tr>\n",
       "    <tr>\n",
       "      <th>mean</th>\n",
       "      <td>5000.50000</td>\n",
       "      <td>300.004930</td>\n",
       "      <td>310.005560</td>\n",
       "      <td>1538.776100</td>\n",
       "      <td>39.986910</td>\n",
       "      <td>107.951000</td>\n",
       "      <td>0.033900</td>\n",
       "    </tr>\n",
       "    <tr>\n",
       "      <th>std</th>\n",
       "      <td>2886.89568</td>\n",
       "      <td>2.000259</td>\n",
       "      <td>1.483734</td>\n",
       "      <td>179.284096</td>\n",
       "      <td>9.968934</td>\n",
       "      <td>63.654147</td>\n",
       "      <td>0.180981</td>\n",
       "    </tr>\n",
       "    <tr>\n",
       "      <th>min</th>\n",
       "      <td>1.00000</td>\n",
       "      <td>295.300000</td>\n",
       "      <td>305.700000</td>\n",
       "      <td>1168.000000</td>\n",
       "      <td>3.800000</td>\n",
       "      <td>0.000000</td>\n",
       "      <td>0.000000</td>\n",
       "    </tr>\n",
       "    <tr>\n",
       "      <th>25%</th>\n",
       "      <td>2500.75000</td>\n",
       "      <td>298.300000</td>\n",
       "      <td>308.800000</td>\n",
       "      <td>1423.000000</td>\n",
       "      <td>33.200000</td>\n",
       "      <td>53.000000</td>\n",
       "      <td>0.000000</td>\n",
       "    </tr>\n",
       "    <tr>\n",
       "      <th>50%</th>\n",
       "      <td>5000.50000</td>\n",
       "      <td>300.100000</td>\n",
       "      <td>310.100000</td>\n",
       "      <td>1503.000000</td>\n",
       "      <td>40.100000</td>\n",
       "      <td>108.000000</td>\n",
       "      <td>0.000000</td>\n",
       "    </tr>\n",
       "    <tr>\n",
       "      <th>75%</th>\n",
       "      <td>7500.25000</td>\n",
       "      <td>301.500000</td>\n",
       "      <td>311.100000</td>\n",
       "      <td>1612.000000</td>\n",
       "      <td>46.800000</td>\n",
       "      <td>162.000000</td>\n",
       "      <td>0.000000</td>\n",
       "    </tr>\n",
       "    <tr>\n",
       "      <th>max</th>\n",
       "      <td>10000.00000</td>\n",
       "      <td>304.500000</td>\n",
       "      <td>313.800000</td>\n",
       "      <td>2886.000000</td>\n",
       "      <td>76.600000</td>\n",
       "      <td>253.000000</td>\n",
       "      <td>1.000000</td>\n",
       "    </tr>\n",
       "  </tbody>\n",
       "</table>\n",
       "</div>"
      ],
      "text/plain": [
       "               UDI  Air temperature [K]  Process temperature [K]  \\\n",
       "count  10000.00000         10000.000000             10000.000000   \n",
       "mean    5000.50000           300.004930               310.005560   \n",
       "std     2886.89568             2.000259                 1.483734   \n",
       "min        1.00000           295.300000               305.700000   \n",
       "25%     2500.75000           298.300000               308.800000   \n",
       "50%     5000.50000           300.100000               310.100000   \n",
       "75%     7500.25000           301.500000               311.100000   \n",
       "max    10000.00000           304.500000               313.800000   \n",
       "\n",
       "       Rotational speed [rpm]   Torque [Nm]  Tool wear [min]        Target  \n",
       "count            10000.000000  10000.000000     10000.000000  10000.000000  \n",
       "mean              1538.776100     39.986910       107.951000      0.033900  \n",
       "std                179.284096      9.968934        63.654147      0.180981  \n",
       "min               1168.000000      3.800000         0.000000      0.000000  \n",
       "25%               1423.000000     33.200000        53.000000      0.000000  \n",
       "50%               1503.000000     40.100000       108.000000      0.000000  \n",
       "75%               1612.000000     46.800000       162.000000      0.000000  \n",
       "max               2886.000000     76.600000       253.000000      1.000000  "
      ]
     },
     "execution_count": 11,
     "metadata": {},
     "output_type": "execute_result"
    }
   ],
   "source": [
    "mdf.describe()"
   ]
  },
  {
   "cell_type": "code",
   "execution_count": 12,
   "id": "d1089536",
   "metadata": {
    "execution": {
     "iopub.execute_input": "2022-12-12T20:51:01.614992Z",
     "iopub.status.busy": "2022-12-12T20:51:01.614276Z",
     "iopub.status.idle": "2022-12-12T20:51:01.638365Z",
     "shell.execute_reply": "2022-12-12T20:51:01.637066Z"
    },
    "papermill": {
     "duration": 0.03865,
     "end_time": "2022-12-12T20:51:01.641329",
     "exception": false,
     "start_time": "2022-12-12T20:51:01.602679",
     "status": "completed"
    },
    "tags": []
   },
   "outputs": [
    {
     "data": {
      "text/html": [
       "<div>\n",
       "<style scoped>\n",
       "    .dataframe tbody tr th:only-of-type {\n",
       "        vertical-align: middle;\n",
       "    }\n",
       "\n",
       "    .dataframe tbody tr th {\n",
       "        vertical-align: top;\n",
       "    }\n",
       "\n",
       "    .dataframe thead th {\n",
       "        text-align: right;\n",
       "    }\n",
       "</style>\n",
       "<table border=\"1\" class=\"dataframe\">\n",
       "  <thead>\n",
       "    <tr style=\"text-align: right;\">\n",
       "      <th></th>\n",
       "      <th>UDI</th>\n",
       "      <th>Product ID</th>\n",
       "      <th>Type</th>\n",
       "      <th>Air temperature [K]</th>\n",
       "      <th>Process temperature [K]</th>\n",
       "      <th>Rotational speed [rpm]</th>\n",
       "      <th>Torque [Nm]</th>\n",
       "      <th>Tool wear [min]</th>\n",
       "      <th>Target</th>\n",
       "      <th>Failure Type</th>\n",
       "    </tr>\n",
       "  </thead>\n",
       "  <tbody>\n",
       "    <tr>\n",
       "      <th>0</th>\n",
       "      <td>1</td>\n",
       "      <td>M14860</td>\n",
       "      <td>M</td>\n",
       "      <td>298.1</td>\n",
       "      <td>308.6</td>\n",
       "      <td>1551</td>\n",
       "      <td>42.8</td>\n",
       "      <td>0</td>\n",
       "      <td>0</td>\n",
       "      <td>No Failure</td>\n",
       "    </tr>\n",
       "    <tr>\n",
       "      <th>1</th>\n",
       "      <td>2</td>\n",
       "      <td>L47181</td>\n",
       "      <td>L</td>\n",
       "      <td>298.2</td>\n",
       "      <td>308.7</td>\n",
       "      <td>1408</td>\n",
       "      <td>46.3</td>\n",
       "      <td>3</td>\n",
       "      <td>0</td>\n",
       "      <td>No Failure</td>\n",
       "    </tr>\n",
       "    <tr>\n",
       "      <th>2</th>\n",
       "      <td>3</td>\n",
       "      <td>L47182</td>\n",
       "      <td>L</td>\n",
       "      <td>298.1</td>\n",
       "      <td>308.5</td>\n",
       "      <td>1498</td>\n",
       "      <td>49.4</td>\n",
       "      <td>5</td>\n",
       "      <td>0</td>\n",
       "      <td>No Failure</td>\n",
       "    </tr>\n",
       "    <tr>\n",
       "      <th>3</th>\n",
       "      <td>4</td>\n",
       "      <td>L47183</td>\n",
       "      <td>L</td>\n",
       "      <td>298.2</td>\n",
       "      <td>308.6</td>\n",
       "      <td>1433</td>\n",
       "      <td>39.5</td>\n",
       "      <td>7</td>\n",
       "      <td>0</td>\n",
       "      <td>No Failure</td>\n",
       "    </tr>\n",
       "    <tr>\n",
       "      <th>4</th>\n",
       "      <td>5</td>\n",
       "      <td>L47184</td>\n",
       "      <td>L</td>\n",
       "      <td>298.2</td>\n",
       "      <td>308.7</td>\n",
       "      <td>1408</td>\n",
       "      <td>40.0</td>\n",
       "      <td>9</td>\n",
       "      <td>0</td>\n",
       "      <td>No Failure</td>\n",
       "    </tr>\n",
       "    <tr>\n",
       "      <th>...</th>\n",
       "      <td>...</td>\n",
       "      <td>...</td>\n",
       "      <td>...</td>\n",
       "      <td>...</td>\n",
       "      <td>...</td>\n",
       "      <td>...</td>\n",
       "      <td>...</td>\n",
       "      <td>...</td>\n",
       "      <td>...</td>\n",
       "      <td>...</td>\n",
       "    </tr>\n",
       "    <tr>\n",
       "      <th>9995</th>\n",
       "      <td>9996</td>\n",
       "      <td>M24855</td>\n",
       "      <td>M</td>\n",
       "      <td>298.8</td>\n",
       "      <td>308.4</td>\n",
       "      <td>1604</td>\n",
       "      <td>29.5</td>\n",
       "      <td>14</td>\n",
       "      <td>0</td>\n",
       "      <td>No Failure</td>\n",
       "    </tr>\n",
       "    <tr>\n",
       "      <th>9996</th>\n",
       "      <td>9997</td>\n",
       "      <td>H39410</td>\n",
       "      <td>H</td>\n",
       "      <td>298.9</td>\n",
       "      <td>308.4</td>\n",
       "      <td>1632</td>\n",
       "      <td>31.8</td>\n",
       "      <td>17</td>\n",
       "      <td>0</td>\n",
       "      <td>No Failure</td>\n",
       "    </tr>\n",
       "    <tr>\n",
       "      <th>9997</th>\n",
       "      <td>9998</td>\n",
       "      <td>M24857</td>\n",
       "      <td>M</td>\n",
       "      <td>299.0</td>\n",
       "      <td>308.6</td>\n",
       "      <td>1645</td>\n",
       "      <td>33.4</td>\n",
       "      <td>22</td>\n",
       "      <td>0</td>\n",
       "      <td>No Failure</td>\n",
       "    </tr>\n",
       "    <tr>\n",
       "      <th>9998</th>\n",
       "      <td>9999</td>\n",
       "      <td>H39412</td>\n",
       "      <td>H</td>\n",
       "      <td>299.0</td>\n",
       "      <td>308.7</td>\n",
       "      <td>1408</td>\n",
       "      <td>48.5</td>\n",
       "      <td>25</td>\n",
       "      <td>0</td>\n",
       "      <td>No Failure</td>\n",
       "    </tr>\n",
       "    <tr>\n",
       "      <th>9999</th>\n",
       "      <td>10000</td>\n",
       "      <td>M24859</td>\n",
       "      <td>M</td>\n",
       "      <td>299.0</td>\n",
       "      <td>308.7</td>\n",
       "      <td>1500</td>\n",
       "      <td>40.2</td>\n",
       "      <td>30</td>\n",
       "      <td>0</td>\n",
       "      <td>No Failure</td>\n",
       "    </tr>\n",
       "  </tbody>\n",
       "</table>\n",
       "<p>10000 rows × 10 columns</p>\n",
       "</div>"
      ],
      "text/plain": [
       "        UDI Product ID Type  Air temperature [K]  Process temperature [K]  \\\n",
       "0         1     M14860    M                298.1                    308.6   \n",
       "1         2     L47181    L                298.2                    308.7   \n",
       "2         3     L47182    L                298.1                    308.5   \n",
       "3         4     L47183    L                298.2                    308.6   \n",
       "4         5     L47184    L                298.2                    308.7   \n",
       "...     ...        ...  ...                  ...                      ...   \n",
       "9995   9996     M24855    M                298.8                    308.4   \n",
       "9996   9997     H39410    H                298.9                    308.4   \n",
       "9997   9998     M24857    M                299.0                    308.6   \n",
       "9998   9999     H39412    H                299.0                    308.7   \n",
       "9999  10000     M24859    M                299.0                    308.7   \n",
       "\n",
       "      Rotational speed [rpm]  Torque [Nm]  Tool wear [min]  Target  \\\n",
       "0                       1551         42.8                0       0   \n",
       "1                       1408         46.3                3       0   \n",
       "2                       1498         49.4                5       0   \n",
       "3                       1433         39.5                7       0   \n",
       "4                       1408         40.0                9       0   \n",
       "...                      ...          ...              ...     ...   \n",
       "9995                    1604         29.5               14       0   \n",
       "9996                    1632         31.8               17       0   \n",
       "9997                    1645         33.4               22       0   \n",
       "9998                    1408         48.5               25       0   \n",
       "9999                    1500         40.2               30       0   \n",
       "\n",
       "     Failure Type  \n",
       "0      No Failure  \n",
       "1      No Failure  \n",
       "2      No Failure  \n",
       "3      No Failure  \n",
       "4      No Failure  \n",
       "...           ...  \n",
       "9995   No Failure  \n",
       "9996   No Failure  \n",
       "9997   No Failure  \n",
       "9998   No Failure  \n",
       "9999   No Failure  \n",
       "\n",
       "[10000 rows x 10 columns]"
      ]
     },
     "execution_count": 12,
     "metadata": {},
     "output_type": "execute_result"
    }
   ],
   "source": [
    "mdf"
   ]
  },
  {
   "cell_type": "code",
   "execution_count": 13,
   "id": "9e6f273a",
   "metadata": {
    "execution": {
     "iopub.execute_input": "2022-12-12T20:51:01.665067Z",
     "iopub.status.busy": "2022-12-12T20:51:01.664040Z",
     "iopub.status.idle": "2022-12-12T20:51:01.679110Z",
     "shell.execute_reply": "2022-12-12T20:51:01.677705Z"
    },
    "papermill": {
     "duration": 0.02975,
     "end_time": "2022-12-12T20:51:01.682028",
     "exception": false,
     "start_time": "2022-12-12T20:51:01.652278",
     "status": "completed"
    },
    "tags": []
   },
   "outputs": [
    {
     "data": {
      "text/html": [
       "<div>\n",
       "<style scoped>\n",
       "    .dataframe tbody tr th:only-of-type {\n",
       "        vertical-align: middle;\n",
       "    }\n",
       "\n",
       "    .dataframe tbody tr th {\n",
       "        vertical-align: top;\n",
       "    }\n",
       "\n",
       "    .dataframe thead th {\n",
       "        text-align: right;\n",
       "    }\n",
       "</style>\n",
       "<table border=\"1\" class=\"dataframe\">\n",
       "  <thead>\n",
       "    <tr style=\"text-align: right;\">\n",
       "      <th></th>\n",
       "      <th>UDI</th>\n",
       "      <th>Product ID</th>\n",
       "      <th>Type</th>\n",
       "      <th>Air temperature [K]</th>\n",
       "      <th>Process temperature [K]</th>\n",
       "      <th>Rotational speed [rpm]</th>\n",
       "      <th>Torque [Nm]</th>\n",
       "      <th>Tool wear [min]</th>\n",
       "      <th>Target</th>\n",
       "      <th>Failure Type</th>\n",
       "    </tr>\n",
       "  </thead>\n",
       "  <tbody>\n",
       "    <tr>\n",
       "      <th>0</th>\n",
       "      <td>1</td>\n",
       "      <td>M14860</td>\n",
       "      <td>M</td>\n",
       "      <td>298.1</td>\n",
       "      <td>308.6</td>\n",
       "      <td>1551</td>\n",
       "      <td>42.8</td>\n",
       "      <td>0</td>\n",
       "      <td>0</td>\n",
       "      <td>No Failure</td>\n",
       "    </tr>\n",
       "    <tr>\n",
       "      <th>1</th>\n",
       "      <td>2</td>\n",
       "      <td>L47181</td>\n",
       "      <td>L</td>\n",
       "      <td>298.2</td>\n",
       "      <td>308.7</td>\n",
       "      <td>1408</td>\n",
       "      <td>46.3</td>\n",
       "      <td>3</td>\n",
       "      <td>0</td>\n",
       "      <td>No Failure</td>\n",
       "    </tr>\n",
       "  </tbody>\n",
       "</table>\n",
       "</div>"
      ],
      "text/plain": [
       "   UDI Product ID Type  Air temperature [K]  Process temperature [K]  \\\n",
       "0    1     M14860    M                298.1                    308.6   \n",
       "1    2     L47181    L                298.2                    308.7   \n",
       "\n",
       "   Rotational speed [rpm]  Torque [Nm]  Tool wear [min]  Target Failure Type  \n",
       "0                    1551         42.8                0       0   No Failure  \n",
       "1                    1408         46.3                3       0   No Failure  "
      ]
     },
     "execution_count": 13,
     "metadata": {},
     "output_type": "execute_result"
    }
   ],
   "source": [
    "mdf.head(2)"
   ]
  },
  {
   "cell_type": "code",
   "execution_count": 14,
   "id": "77f484db",
   "metadata": {
    "execution": {
     "iopub.execute_input": "2022-12-12T20:51:01.705556Z",
     "iopub.status.busy": "2022-12-12T20:51:01.704907Z",
     "iopub.status.idle": "2022-12-12T20:51:01.714057Z",
     "shell.execute_reply": "2022-12-12T20:51:01.712673Z"
    },
    "papermill": {
     "duration": 0.02383,
     "end_time": "2022-12-12T20:51:01.716638",
     "exception": false,
     "start_time": "2022-12-12T20:51:01.692808",
     "status": "completed"
    },
    "tags": []
   },
   "outputs": [
    {
     "data": {
      "text/plain": [
       "0       M\n",
       "1       L\n",
       "2       L\n",
       "3       L\n",
       "4       L\n",
       "       ..\n",
       "9995    M\n",
       "9996    H\n",
       "9997    M\n",
       "9998    H\n",
       "9999    M\n",
       "Name: Type, Length: 10000, dtype: object"
      ]
     },
     "execution_count": 14,
     "metadata": {},
     "output_type": "execute_result"
    }
   ],
   "source": [
    "mdf['Type']"
   ]
  },
  {
   "cell_type": "code",
   "execution_count": 15,
   "id": "1ed360a1",
   "metadata": {
    "execution": {
     "iopub.execute_input": "2022-12-12T20:51:01.740708Z",
     "iopub.status.busy": "2022-12-12T20:51:01.740312Z",
     "iopub.status.idle": "2022-12-12T20:51:01.747287Z",
     "shell.execute_reply": "2022-12-12T20:51:01.746125Z"
    },
    "papermill": {
     "duration": 0.022447,
     "end_time": "2022-12-12T20:51:01.750041",
     "exception": false,
     "start_time": "2022-12-12T20:51:01.727594",
     "status": "completed"
    },
    "tags": []
   },
   "outputs": [
    {
     "data": {
      "text/plain": [
       "'M'"
      ]
     },
     "execution_count": 15,
     "metadata": {},
     "output_type": "execute_result"
    }
   ],
   "source": [
    "mdf['Type'][0]"
   ]
  },
  {
   "cell_type": "code",
   "execution_count": 16,
   "id": "20d776e3",
   "metadata": {
    "execution": {
     "iopub.execute_input": "2022-12-12T20:51:01.773395Z",
     "iopub.status.busy": "2022-12-12T20:51:01.773002Z",
     "iopub.status.idle": "2022-12-12T20:51:01.780350Z",
     "shell.execute_reply": "2022-12-12T20:51:01.778961Z"
    },
    "papermill": {
     "duration": 0.021958,
     "end_time": "2022-12-12T20:51:01.782871",
     "exception": false,
     "start_time": "2022-12-12T20:51:01.760913",
     "status": "completed"
    },
    "tags": []
   },
   "outputs": [
    {
     "name": "stderr",
     "output_type": "stream",
     "text": [
      "/opt/conda/lib/python3.7/site-packages/ipykernel_launcher.py:1: SettingWithCopyWarning: \n",
      "A value is trying to be set on a copy of a slice from a DataFrame\n",
      "\n",
      "See the caveats in the documentation: https://pandas.pydata.org/pandas-docs/stable/user_guide/indexing.html#returning-a-view-versus-a-copy\n",
      "  \"\"\"Entry point for launching an IPython kernel.\n"
     ]
    }
   ],
   "source": [
    "mdf['Type'][0]='L'"
   ]
  },
  {
   "cell_type": "code",
   "execution_count": 17,
   "id": "5281a7be",
   "metadata": {
    "execution": {
     "iopub.execute_input": "2022-12-12T20:51:01.807787Z",
     "iopub.status.busy": "2022-12-12T20:51:01.806966Z",
     "iopub.status.idle": "2022-12-12T20:51:01.862040Z",
     "shell.execute_reply": "2022-12-12T20:51:01.860670Z"
    },
    "papermill": {
     "duration": 0.070309,
     "end_time": "2022-12-12T20:51:01.864695",
     "exception": false,
     "start_time": "2022-12-12T20:51:01.794386",
     "status": "completed"
    },
    "tags": []
   },
   "outputs": [],
   "source": [
    "mdf.to_csv('sample2.csv')"
   ]
  },
  {
   "cell_type": "code",
   "execution_count": 18,
   "id": "1e09b027",
   "metadata": {
    "execution": {
     "iopub.execute_input": "2022-12-12T20:51:01.888847Z",
     "iopub.status.busy": "2022-12-12T20:51:01.887714Z",
     "iopub.status.idle": "2022-12-12T20:51:01.904948Z",
     "shell.execute_reply": "2022-12-12T20:51:01.903690Z"
    },
    "papermill": {
     "duration": 0.032075,
     "end_time": "2022-12-12T20:51:01.907668",
     "exception": false,
     "start_time": "2022-12-12T20:51:01.875593",
     "status": "completed"
    },
    "tags": []
   },
   "outputs": [
    {
     "data": {
      "text/html": [
       "<div>\n",
       "<style scoped>\n",
       "    .dataframe tbody tr th:only-of-type {\n",
       "        vertical-align: middle;\n",
       "    }\n",
       "\n",
       "    .dataframe tbody tr th {\n",
       "        vertical-align: top;\n",
       "    }\n",
       "\n",
       "    .dataframe thead th {\n",
       "        text-align: right;\n",
       "    }\n",
       "</style>\n",
       "<table border=\"1\" class=\"dataframe\">\n",
       "  <thead>\n",
       "    <tr style=\"text-align: right;\">\n",
       "      <th></th>\n",
       "      <th>UDI</th>\n",
       "      <th>Product ID</th>\n",
       "      <th>Type</th>\n",
       "      <th>Air temperature [K]</th>\n",
       "      <th>Process temperature [K]</th>\n",
       "      <th>Rotational speed [rpm]</th>\n",
       "      <th>Torque [Nm]</th>\n",
       "      <th>Tool wear [min]</th>\n",
       "      <th>Target</th>\n",
       "      <th>Failure Type</th>\n",
       "    </tr>\n",
       "  </thead>\n",
       "  <tbody>\n",
       "    <tr>\n",
       "      <th>0</th>\n",
       "      <td>1</td>\n",
       "      <td>M14860</td>\n",
       "      <td>L</td>\n",
       "      <td>298.1</td>\n",
       "      <td>308.6</td>\n",
       "      <td>1551</td>\n",
       "      <td>42.8</td>\n",
       "      <td>0</td>\n",
       "      <td>0</td>\n",
       "      <td>No Failure</td>\n",
       "    </tr>\n",
       "    <tr>\n",
       "      <th>1</th>\n",
       "      <td>2</td>\n",
       "      <td>L47181</td>\n",
       "      <td>L</td>\n",
       "      <td>298.2</td>\n",
       "      <td>308.7</td>\n",
       "      <td>1408</td>\n",
       "      <td>46.3</td>\n",
       "      <td>3</td>\n",
       "      <td>0</td>\n",
       "      <td>No Failure</td>\n",
       "    </tr>\n",
       "    <tr>\n",
       "      <th>2</th>\n",
       "      <td>3</td>\n",
       "      <td>L47182</td>\n",
       "      <td>L</td>\n",
       "      <td>298.1</td>\n",
       "      <td>308.5</td>\n",
       "      <td>1498</td>\n",
       "      <td>49.4</td>\n",
       "      <td>5</td>\n",
       "      <td>0</td>\n",
       "      <td>No Failure</td>\n",
       "    </tr>\n",
       "    <tr>\n",
       "      <th>3</th>\n",
       "      <td>4</td>\n",
       "      <td>L47183</td>\n",
       "      <td>L</td>\n",
       "      <td>298.2</td>\n",
       "      <td>308.6</td>\n",
       "      <td>1433</td>\n",
       "      <td>39.5</td>\n",
       "      <td>7</td>\n",
       "      <td>0</td>\n",
       "      <td>No Failure</td>\n",
       "    </tr>\n",
       "    <tr>\n",
       "      <th>4</th>\n",
       "      <td>5</td>\n",
       "      <td>L47184</td>\n",
       "      <td>L</td>\n",
       "      <td>298.2</td>\n",
       "      <td>308.7</td>\n",
       "      <td>1408</td>\n",
       "      <td>40.0</td>\n",
       "      <td>9</td>\n",
       "      <td>0</td>\n",
       "      <td>No Failure</td>\n",
       "    </tr>\n",
       "  </tbody>\n",
       "</table>\n",
       "</div>"
      ],
      "text/plain": [
       "   UDI Product ID Type  Air temperature [K]  Process temperature [K]  \\\n",
       "0    1     M14860    L                298.1                    308.6   \n",
       "1    2     L47181    L                298.2                    308.7   \n",
       "2    3     L47182    L                298.1                    308.5   \n",
       "3    4     L47183    L                298.2                    308.6   \n",
       "4    5     L47184    L                298.2                    308.7   \n",
       "\n",
       "   Rotational speed [rpm]  Torque [Nm]  Tool wear [min]  Target Failure Type  \n",
       "0                    1551         42.8                0       0   No Failure  \n",
       "1                    1408         46.3                3       0   No Failure  \n",
       "2                    1498         49.4                5       0   No Failure  \n",
       "3                    1433         39.5                7       0   No Failure  \n",
       "4                    1408         40.0                9       0   No Failure  "
      ]
     },
     "execution_count": 18,
     "metadata": {},
     "output_type": "execute_result"
    }
   ],
   "source": [
    "mdf.head()"
   ]
  },
  {
   "cell_type": "code",
   "execution_count": 19,
   "id": "eb2dce7e",
   "metadata": {
    "execution": {
     "iopub.execute_input": "2022-12-12T20:51:01.939509Z",
     "iopub.status.busy": "2022-12-12T20:51:01.939108Z",
     "iopub.status.idle": "2022-12-12T20:51:01.945739Z",
     "shell.execute_reply": "2022-12-12T20:51:01.944555Z"
    },
    "papermill": {
     "duration": 0.027203,
     "end_time": "2022-12-12T20:51:01.948945",
     "exception": false,
     "start_time": "2022-12-12T20:51:01.921742",
     "status": "completed"
    },
    "tags": []
   },
   "outputs": [
    {
     "data": {
      "text/plain": [
       "pandas.core.frame.DataFrame"
      ]
     },
     "execution_count": 19,
     "metadata": {},
     "output_type": "execute_result"
    }
   ],
   "source": [
    "type(mdf)"
   ]
  },
  {
   "cell_type": "code",
   "execution_count": 20,
   "id": "d033be70",
   "metadata": {
    "execution": {
     "iopub.execute_input": "2022-12-12T20:51:01.981596Z",
     "iopub.status.busy": "2022-12-12T20:51:01.981205Z",
     "iopub.status.idle": "2022-12-12T20:51:01.987349Z",
     "shell.execute_reply": "2022-12-12T20:51:01.985960Z"
    },
    "papermill": {
     "duration": 0.026524,
     "end_time": "2022-12-12T20:51:01.990134",
     "exception": false,
     "start_time": "2022-12-12T20:51:01.963610",
     "status": "completed"
    },
    "tags": []
   },
   "outputs": [],
   "source": [
    "ser=pd.Series(np.random.rand(34))"
   ]
  },
  {
   "cell_type": "code",
   "execution_count": 21,
   "id": "c2287967",
   "metadata": {
    "execution": {
     "iopub.execute_input": "2022-12-12T20:51:02.021202Z",
     "iopub.status.busy": "2022-12-12T20:51:02.020218Z",
     "iopub.status.idle": "2022-12-12T20:51:02.027715Z",
     "shell.execute_reply": "2022-12-12T20:51:02.026942Z"
    },
    "papermill": {
     "duration": 0.025593,
     "end_time": "2022-12-12T20:51:02.030022",
     "exception": false,
     "start_time": "2022-12-12T20:51:02.004429",
     "status": "completed"
    },
    "tags": []
   },
   "outputs": [
    {
     "data": {
      "text/plain": [
       "pandas.core.series.Series"
      ]
     },
     "execution_count": 21,
     "metadata": {},
     "output_type": "execute_result"
    }
   ],
   "source": [
    "type(ser)"
   ]
  },
  {
   "cell_type": "code",
   "execution_count": 22,
   "id": "5d0183d5",
   "metadata": {
    "execution": {
     "iopub.execute_input": "2022-12-12T20:51:02.056513Z",
     "iopub.status.busy": "2022-12-12T20:51:02.055563Z",
     "iopub.status.idle": "2022-12-12T20:51:02.062768Z",
     "shell.execute_reply": "2022-12-12T20:51:02.061635Z"
    },
    "papermill": {
     "duration": 0.023263,
     "end_time": "2022-12-12T20:51:02.065536",
     "exception": false,
     "start_time": "2022-12-12T20:51:02.042273",
     "status": "completed"
    },
    "tags": []
   },
   "outputs": [],
   "source": [
    "newdf= pd.DataFrame(np.random.rand(334,5),index=np.arange(334))"
   ]
  },
  {
   "cell_type": "code",
   "execution_count": 23,
   "id": "233e1dbb",
   "metadata": {
    "execution": {
     "iopub.execute_input": "2022-12-12T20:51:02.092025Z",
     "iopub.status.busy": "2022-12-12T20:51:02.090852Z",
     "iopub.status.idle": "2022-12-12T20:51:02.105322Z",
     "shell.execute_reply": "2022-12-12T20:51:02.104440Z"
    },
    "papermill": {
     "duration": 0.029902,
     "end_time": "2022-12-12T20:51:02.107712",
     "exception": false,
     "start_time": "2022-12-12T20:51:02.077810",
     "status": "completed"
    },
    "tags": []
   },
   "outputs": [
    {
     "data": {
      "text/html": [
       "<div>\n",
       "<style scoped>\n",
       "    .dataframe tbody tr th:only-of-type {\n",
       "        vertical-align: middle;\n",
       "    }\n",
       "\n",
       "    .dataframe tbody tr th {\n",
       "        vertical-align: top;\n",
       "    }\n",
       "\n",
       "    .dataframe thead th {\n",
       "        text-align: right;\n",
       "    }\n",
       "</style>\n",
       "<table border=\"1\" class=\"dataframe\">\n",
       "  <thead>\n",
       "    <tr style=\"text-align: right;\">\n",
       "      <th></th>\n",
       "      <th>0</th>\n",
       "      <th>1</th>\n",
       "      <th>2</th>\n",
       "      <th>3</th>\n",
       "      <th>4</th>\n",
       "    </tr>\n",
       "  </thead>\n",
       "  <tbody>\n",
       "    <tr>\n",
       "      <th>0</th>\n",
       "      <td>0.329205</td>\n",
       "      <td>0.852800</td>\n",
       "      <td>0.811410</td>\n",
       "      <td>0.093145</td>\n",
       "      <td>0.782726</td>\n",
       "    </tr>\n",
       "    <tr>\n",
       "      <th>1</th>\n",
       "      <td>0.280443</td>\n",
       "      <td>0.541657</td>\n",
       "      <td>0.745602</td>\n",
       "      <td>0.430988</td>\n",
       "      <td>0.349229</td>\n",
       "    </tr>\n",
       "    <tr>\n",
       "      <th>2</th>\n",
       "      <td>0.164788</td>\n",
       "      <td>0.829936</td>\n",
       "      <td>0.742871</td>\n",
       "      <td>0.155112</td>\n",
       "      <td>0.896396</td>\n",
       "    </tr>\n",
       "    <tr>\n",
       "      <th>3</th>\n",
       "      <td>0.576158</td>\n",
       "      <td>0.725587</td>\n",
       "      <td>0.690783</td>\n",
       "      <td>0.577402</td>\n",
       "      <td>0.186344</td>\n",
       "    </tr>\n",
       "    <tr>\n",
       "      <th>4</th>\n",
       "      <td>0.151404</td>\n",
       "      <td>0.386941</td>\n",
       "      <td>0.074762</td>\n",
       "      <td>0.600241</td>\n",
       "      <td>0.657859</td>\n",
       "    </tr>\n",
       "    <tr>\n",
       "      <th>...</th>\n",
       "      <td>...</td>\n",
       "      <td>...</td>\n",
       "      <td>...</td>\n",
       "      <td>...</td>\n",
       "      <td>...</td>\n",
       "    </tr>\n",
       "    <tr>\n",
       "      <th>329</th>\n",
       "      <td>0.636632</td>\n",
       "      <td>0.870220</td>\n",
       "      <td>0.952415</td>\n",
       "      <td>0.594300</td>\n",
       "      <td>0.619032</td>\n",
       "    </tr>\n",
       "    <tr>\n",
       "      <th>330</th>\n",
       "      <td>0.216527</td>\n",
       "      <td>0.253091</td>\n",
       "      <td>0.838126</td>\n",
       "      <td>0.622757</td>\n",
       "      <td>0.970453</td>\n",
       "    </tr>\n",
       "    <tr>\n",
       "      <th>331</th>\n",
       "      <td>0.566433</td>\n",
       "      <td>0.520846</td>\n",
       "      <td>0.851293</td>\n",
       "      <td>0.647026</td>\n",
       "      <td>0.172191</td>\n",
       "    </tr>\n",
       "    <tr>\n",
       "      <th>332</th>\n",
       "      <td>0.576656</td>\n",
       "      <td>0.682031</td>\n",
       "      <td>0.847130</td>\n",
       "      <td>0.219490</td>\n",
       "      <td>0.195513</td>\n",
       "    </tr>\n",
       "    <tr>\n",
       "      <th>333</th>\n",
       "      <td>0.346591</td>\n",
       "      <td>0.870923</td>\n",
       "      <td>0.518133</td>\n",
       "      <td>0.051370</td>\n",
       "      <td>0.333846</td>\n",
       "    </tr>\n",
       "  </tbody>\n",
       "</table>\n",
       "<p>334 rows × 5 columns</p>\n",
       "</div>"
      ],
      "text/plain": [
       "            0         1         2         3         4\n",
       "0    0.329205  0.852800  0.811410  0.093145  0.782726\n",
       "1    0.280443  0.541657  0.745602  0.430988  0.349229\n",
       "2    0.164788  0.829936  0.742871  0.155112  0.896396\n",
       "3    0.576158  0.725587  0.690783  0.577402  0.186344\n",
       "4    0.151404  0.386941  0.074762  0.600241  0.657859\n",
       "..        ...       ...       ...       ...       ...\n",
       "329  0.636632  0.870220  0.952415  0.594300  0.619032\n",
       "330  0.216527  0.253091  0.838126  0.622757  0.970453\n",
       "331  0.566433  0.520846  0.851293  0.647026  0.172191\n",
       "332  0.576656  0.682031  0.847130  0.219490  0.195513\n",
       "333  0.346591  0.870923  0.518133  0.051370  0.333846\n",
       "\n",
       "[334 rows x 5 columns]"
      ]
     },
     "execution_count": 23,
     "metadata": {},
     "output_type": "execute_result"
    }
   ],
   "source": [
    "newdf"
   ]
  },
  {
   "cell_type": "code",
   "execution_count": 24,
   "id": "555cadd8",
   "metadata": {
    "execution": {
     "iopub.execute_input": "2022-12-12T20:51:02.132651Z",
     "iopub.status.busy": "2022-12-12T20:51:02.132004Z",
     "iopub.status.idle": "2022-12-12T20:51:02.146365Z",
     "shell.execute_reply": "2022-12-12T20:51:02.145045Z"
    },
    "papermill": {
     "duration": 0.029805,
     "end_time": "2022-12-12T20:51:02.149076",
     "exception": false,
     "start_time": "2022-12-12T20:51:02.119271",
     "status": "completed"
    },
    "tags": []
   },
   "outputs": [
    {
     "data": {
      "text/html": [
       "<div>\n",
       "<style scoped>\n",
       "    .dataframe tbody tr th:only-of-type {\n",
       "        vertical-align: middle;\n",
       "    }\n",
       "\n",
       "    .dataframe tbody tr th {\n",
       "        vertical-align: top;\n",
       "    }\n",
       "\n",
       "    .dataframe thead th {\n",
       "        text-align: right;\n",
       "    }\n",
       "</style>\n",
       "<table border=\"1\" class=\"dataframe\">\n",
       "  <thead>\n",
       "    <tr style=\"text-align: right;\">\n",
       "      <th></th>\n",
       "      <th>0</th>\n",
       "      <th>1</th>\n",
       "      <th>2</th>\n",
       "      <th>3</th>\n",
       "      <th>4</th>\n",
       "    </tr>\n",
       "  </thead>\n",
       "  <tbody>\n",
       "    <tr>\n",
       "      <th>0</th>\n",
       "      <td>0.329205</td>\n",
       "      <td>0.852800</td>\n",
       "      <td>0.811410</td>\n",
       "      <td>0.093145</td>\n",
       "      <td>0.782726</td>\n",
       "    </tr>\n",
       "    <tr>\n",
       "      <th>1</th>\n",
       "      <td>0.280443</td>\n",
       "      <td>0.541657</td>\n",
       "      <td>0.745602</td>\n",
       "      <td>0.430988</td>\n",
       "      <td>0.349229</td>\n",
       "    </tr>\n",
       "    <tr>\n",
       "      <th>2</th>\n",
       "      <td>0.164788</td>\n",
       "      <td>0.829936</td>\n",
       "      <td>0.742871</td>\n",
       "      <td>0.155112</td>\n",
       "      <td>0.896396</td>\n",
       "    </tr>\n",
       "    <tr>\n",
       "      <th>3</th>\n",
       "      <td>0.576158</td>\n",
       "      <td>0.725587</td>\n",
       "      <td>0.690783</td>\n",
       "      <td>0.577402</td>\n",
       "      <td>0.186344</td>\n",
       "    </tr>\n",
       "    <tr>\n",
       "      <th>4</th>\n",
       "      <td>0.151404</td>\n",
       "      <td>0.386941</td>\n",
       "      <td>0.074762</td>\n",
       "      <td>0.600241</td>\n",
       "      <td>0.657859</td>\n",
       "    </tr>\n",
       "  </tbody>\n",
       "</table>\n",
       "</div>"
      ],
      "text/plain": [
       "          0         1         2         3         4\n",
       "0  0.329205  0.852800  0.811410  0.093145  0.782726\n",
       "1  0.280443  0.541657  0.745602  0.430988  0.349229\n",
       "2  0.164788  0.829936  0.742871  0.155112  0.896396\n",
       "3  0.576158  0.725587  0.690783  0.577402  0.186344\n",
       "4  0.151404  0.386941  0.074762  0.600241  0.657859"
      ]
     },
     "execution_count": 24,
     "metadata": {},
     "output_type": "execute_result"
    }
   ],
   "source": [
    "newdf.head()"
   ]
  },
  {
   "cell_type": "code",
   "execution_count": 25,
   "id": "b8286fa0",
   "metadata": {
    "execution": {
     "iopub.execute_input": "2022-12-12T20:51:02.174434Z",
     "iopub.status.busy": "2022-12-12T20:51:02.174041Z",
     "iopub.status.idle": "2022-12-12T20:51:02.181358Z",
     "shell.execute_reply": "2022-12-12T20:51:02.180139Z"
    },
    "papermill": {
     "duration": 0.023227,
     "end_time": "2022-12-12T20:51:02.184168",
     "exception": false,
     "start_time": "2022-12-12T20:51:02.160941",
     "status": "completed"
    },
    "tags": []
   },
   "outputs": [
    {
     "data": {
      "text/plain": [
       "pandas.core.frame.DataFrame"
      ]
     },
     "execution_count": 25,
     "metadata": {},
     "output_type": "execute_result"
    }
   ],
   "source": [
    "type(newdf)"
   ]
  },
  {
   "cell_type": "code",
   "execution_count": 26,
   "id": "bd85c73e",
   "metadata": {
    "execution": {
     "iopub.execute_input": "2022-12-12T20:51:02.210779Z",
     "iopub.status.busy": "2022-12-12T20:51:02.210123Z",
     "iopub.status.idle": "2022-12-12T20:51:02.240091Z",
     "shell.execute_reply": "2022-12-12T20:51:02.237918Z"
    },
    "papermill": {
     "duration": 0.045842,
     "end_time": "2022-12-12T20:51:02.242745",
     "exception": false,
     "start_time": "2022-12-12T20:51:02.196903",
     "status": "completed"
    },
    "tags": []
   },
   "outputs": [
    {
     "data": {
      "text/html": [
       "<div>\n",
       "<style scoped>\n",
       "    .dataframe tbody tr th:only-of-type {\n",
       "        vertical-align: middle;\n",
       "    }\n",
       "\n",
       "    .dataframe tbody tr th {\n",
       "        vertical-align: top;\n",
       "    }\n",
       "\n",
       "    .dataframe thead th {\n",
       "        text-align: right;\n",
       "    }\n",
       "</style>\n",
       "<table border=\"1\" class=\"dataframe\">\n",
       "  <thead>\n",
       "    <tr style=\"text-align: right;\">\n",
       "      <th></th>\n",
       "      <th>0</th>\n",
       "      <th>1</th>\n",
       "      <th>2</th>\n",
       "      <th>3</th>\n",
       "      <th>4</th>\n",
       "    </tr>\n",
       "  </thead>\n",
       "  <tbody>\n",
       "    <tr>\n",
       "      <th>count</th>\n",
       "      <td>334.000000</td>\n",
       "      <td>334.000000</td>\n",
       "      <td>334.000000</td>\n",
       "      <td>334.000000</td>\n",
       "      <td>334.000000</td>\n",
       "    </tr>\n",
       "    <tr>\n",
       "      <th>mean</th>\n",
       "      <td>0.500789</td>\n",
       "      <td>0.513280</td>\n",
       "      <td>0.518105</td>\n",
       "      <td>0.498827</td>\n",
       "      <td>0.517038</td>\n",
       "    </tr>\n",
       "    <tr>\n",
       "      <th>std</th>\n",
       "      <td>0.293772</td>\n",
       "      <td>0.277941</td>\n",
       "      <td>0.283731</td>\n",
       "      <td>0.292267</td>\n",
       "      <td>0.282842</td>\n",
       "    </tr>\n",
       "    <tr>\n",
       "      <th>min</th>\n",
       "      <td>0.000222</td>\n",
       "      <td>0.000381</td>\n",
       "      <td>0.003069</td>\n",
       "      <td>0.001083</td>\n",
       "      <td>0.006517</td>\n",
       "    </tr>\n",
       "    <tr>\n",
       "      <th>25%</th>\n",
       "      <td>0.227885</td>\n",
       "      <td>0.289078</td>\n",
       "      <td>0.279130</td>\n",
       "      <td>0.247181</td>\n",
       "      <td>0.283096</td>\n",
       "    </tr>\n",
       "    <tr>\n",
       "      <th>50%</th>\n",
       "      <td>0.499022</td>\n",
       "      <td>0.534646</td>\n",
       "      <td>0.532447</td>\n",
       "      <td>0.500719</td>\n",
       "      <td>0.513991</td>\n",
       "    </tr>\n",
       "    <tr>\n",
       "      <th>75%</th>\n",
       "      <td>0.746005</td>\n",
       "      <td>0.729958</td>\n",
       "      <td>0.765617</td>\n",
       "      <td>0.766574</td>\n",
       "      <td>0.769583</td>\n",
       "    </tr>\n",
       "    <tr>\n",
       "      <th>max</th>\n",
       "      <td>0.999122</td>\n",
       "      <td>0.994374</td>\n",
       "      <td>0.998170</td>\n",
       "      <td>0.998979</td>\n",
       "      <td>0.999582</td>\n",
       "    </tr>\n",
       "  </tbody>\n",
       "</table>\n",
       "</div>"
      ],
      "text/plain": [
       "                0           1           2           3           4\n",
       "count  334.000000  334.000000  334.000000  334.000000  334.000000\n",
       "mean     0.500789    0.513280    0.518105    0.498827    0.517038\n",
       "std      0.293772    0.277941    0.283731    0.292267    0.282842\n",
       "min      0.000222    0.000381    0.003069    0.001083    0.006517\n",
       "25%      0.227885    0.289078    0.279130    0.247181    0.283096\n",
       "50%      0.499022    0.534646    0.532447    0.500719    0.513991\n",
       "75%      0.746005    0.729958    0.765617    0.766574    0.769583\n",
       "max      0.999122    0.994374    0.998170    0.998979    0.999582"
      ]
     },
     "execution_count": 26,
     "metadata": {},
     "output_type": "execute_result"
    }
   ],
   "source": [
    "newdf.describe()"
   ]
  },
  {
   "cell_type": "code",
   "execution_count": 27,
   "id": "d1ed5a36",
   "metadata": {
    "execution": {
     "iopub.execute_input": "2022-12-12T20:51:02.269148Z",
     "iopub.status.busy": "2022-12-12T20:51:02.268426Z",
     "iopub.status.idle": "2022-12-12T20:51:02.276140Z",
     "shell.execute_reply": "2022-12-12T20:51:02.275199Z"
    },
    "papermill": {
     "duration": 0.023569,
     "end_time": "2022-12-12T20:51:02.278588",
     "exception": false,
     "start_time": "2022-12-12T20:51:02.255019",
     "status": "completed"
    },
    "tags": []
   },
   "outputs": [
    {
     "data": {
      "text/plain": [
       "0    float64\n",
       "1    float64\n",
       "2    float64\n",
       "3    float64\n",
       "4    float64\n",
       "dtype: object"
      ]
     },
     "execution_count": 27,
     "metadata": {},
     "output_type": "execute_result"
    }
   ],
   "source": [
    "newdf.dtypes"
   ]
  },
  {
   "cell_type": "code",
   "execution_count": 28,
   "id": "b87fdd28",
   "metadata": {
    "execution": {
     "iopub.execute_input": "2022-12-12T20:51:02.305761Z",
     "iopub.status.busy": "2022-12-12T20:51:02.305092Z",
     "iopub.status.idle": "2022-12-12T20:51:02.310901Z",
     "shell.execute_reply": "2022-12-12T20:51:02.309700Z"
    },
    "papermill": {
     "duration": 0.022796,
     "end_time": "2022-12-12T20:51:02.313522",
     "exception": false,
     "start_time": "2022-12-12T20:51:02.290726",
     "status": "completed"
    },
    "tags": []
   },
   "outputs": [],
   "source": [
    "newdf[0][0]='Mr K'"
   ]
  },
  {
   "cell_type": "code",
   "execution_count": 29,
   "id": "60778295",
   "metadata": {
    "execution": {
     "iopub.execute_input": "2022-12-12T20:51:02.339490Z",
     "iopub.status.busy": "2022-12-12T20:51:02.339064Z",
     "iopub.status.idle": "2022-12-12T20:51:02.346512Z",
     "shell.execute_reply": "2022-12-12T20:51:02.345180Z"
    },
    "papermill": {
     "duration": 0.023572,
     "end_time": "2022-12-12T20:51:02.349182",
     "exception": false,
     "start_time": "2022-12-12T20:51:02.325610",
     "status": "completed"
    },
    "tags": []
   },
   "outputs": [
    {
     "data": {
      "text/plain": [
       "pandas.core.frame.DataFrame"
      ]
     },
     "execution_count": 29,
     "metadata": {},
     "output_type": "execute_result"
    }
   ],
   "source": [
    "type(newdf)"
   ]
  },
  {
   "cell_type": "code",
   "execution_count": 30,
   "id": "f3eb0554",
   "metadata": {
    "execution": {
     "iopub.execute_input": "2022-12-12T20:51:02.375724Z",
     "iopub.status.busy": "2022-12-12T20:51:02.375329Z",
     "iopub.status.idle": "2022-12-12T20:51:02.383838Z",
     "shell.execute_reply": "2022-12-12T20:51:02.382098Z"
    },
    "papermill": {
     "duration": 0.025266,
     "end_time": "2022-12-12T20:51:02.386740",
     "exception": false,
     "start_time": "2022-12-12T20:51:02.361474",
     "status": "completed"
    },
    "tags": []
   },
   "outputs": [
    {
     "data": {
      "text/plain": [
       "0     object\n",
       "1    float64\n",
       "2    float64\n",
       "3    float64\n",
       "4    float64\n",
       "dtype: object"
      ]
     },
     "execution_count": 30,
     "metadata": {},
     "output_type": "execute_result"
    }
   ],
   "source": [
    "newdf.dtypes"
   ]
  },
  {
   "cell_type": "code",
   "execution_count": 31,
   "id": "11eb7087",
   "metadata": {
    "execution": {
     "iopub.execute_input": "2022-12-12T20:51:02.415672Z",
     "iopub.status.busy": "2022-12-12T20:51:02.414685Z",
     "iopub.status.idle": "2022-12-12T20:51:02.422461Z",
     "shell.execute_reply": "2022-12-12T20:51:02.421568Z"
    },
    "papermill": {
     "duration": 0.024194,
     "end_time": "2022-12-12T20:51:02.424584",
     "exception": false,
     "start_time": "2022-12-12T20:51:02.400390",
     "status": "completed"
    },
    "tags": []
   },
   "outputs": [
    {
     "data": {
      "text/plain": [
       "Int64Index([  0,   1,   2,   3,   4,   5,   6,   7,   8,   9,\n",
       "            ...\n",
       "            324, 325, 326, 327, 328, 329, 330, 331, 332, 333],\n",
       "           dtype='int64', length=334)"
      ]
     },
     "execution_count": 31,
     "metadata": {},
     "output_type": "execute_result"
    }
   ],
   "source": [
    "newdf.index"
   ]
  },
  {
   "cell_type": "code",
   "execution_count": 32,
   "id": "b165ee0b",
   "metadata": {
    "execution": {
     "iopub.execute_input": "2022-12-12T20:51:02.452962Z",
     "iopub.status.busy": "2022-12-12T20:51:02.451818Z",
     "iopub.status.idle": "2022-12-12T20:51:02.460133Z",
     "shell.execute_reply": "2022-12-12T20:51:02.458944Z"
    },
    "papermill": {
     "duration": 0.024854,
     "end_time": "2022-12-12T20:51:02.462797",
     "exception": false,
     "start_time": "2022-12-12T20:51:02.437943",
     "status": "completed"
    },
    "tags": []
   },
   "outputs": [
    {
     "data": {
      "text/plain": [
       "RangeIndex(start=0, stop=5, step=1)"
      ]
     },
     "execution_count": 32,
     "metadata": {},
     "output_type": "execute_result"
    }
   ],
   "source": [
    "newdf.columns"
   ]
  },
  {
   "cell_type": "code",
   "execution_count": 33,
   "id": "b101150d",
   "metadata": {
    "execution": {
     "iopub.execute_input": "2022-12-12T20:51:02.490751Z",
     "iopub.status.busy": "2022-12-12T20:51:02.490102Z",
     "iopub.status.idle": "2022-12-12T20:51:02.497818Z",
     "shell.execute_reply": "2022-12-12T20:51:02.496581Z"
    },
    "papermill": {
     "duration": 0.024415,
     "end_time": "2022-12-12T20:51:02.500170",
     "exception": false,
     "start_time": "2022-12-12T20:51:02.475755",
     "status": "completed"
    },
    "tags": []
   },
   "outputs": [
    {
     "data": {
      "text/plain": [
       "array([['Mr K', 0.8527996136567818, 0.8114095731058045,\n",
       "        0.0931450742442459, 0.7827261150694015],\n",
       "       [0.28044330556418917, 0.5416565251892109, 0.7456023657872456,\n",
       "        0.43098819252330267, 0.349228994807426],\n",
       "       [0.16478829361415082, 0.8299356244063125, 0.7428706150395703,\n",
       "        0.15511226752780505, 0.8963963075186032],\n",
       "       ...,\n",
       "       [0.5664327625816924, 0.5208459620242282, 0.8512928899089461,\n",
       "        0.6470259349957797, 0.17219062379364558],\n",
       "       [0.5766560861649652, 0.6820308328219693, 0.847130443085711,\n",
       "        0.21948987318020918, 0.1955131275556503],\n",
       "       [0.3465910727702687, 0.870923134262231, 0.5181327351009045,\n",
       "        0.05136958698297445, 0.33384612426987925]], dtype=object)"
      ]
     },
     "execution_count": 33,
     "metadata": {},
     "output_type": "execute_result"
    }
   ],
   "source": [
    "newdf.to_numpy()"
   ]
  },
  {
   "cell_type": "code",
   "execution_count": 34,
   "id": "a6e72605",
   "metadata": {
    "execution": {
     "iopub.execute_input": "2022-12-12T20:51:02.527518Z",
     "iopub.status.busy": "2022-12-12T20:51:02.526823Z",
     "iopub.status.idle": "2022-12-12T20:51:02.558157Z",
     "shell.execute_reply": "2022-12-12T20:51:02.556960Z"
    },
    "papermill": {
     "duration": 0.047844,
     "end_time": "2022-12-12T20:51:02.560533",
     "exception": false,
     "start_time": "2022-12-12T20:51:02.512689",
     "status": "completed"
    },
    "tags": []
   },
   "outputs": [
    {
     "data": {
      "text/html": [
       "<div>\n",
       "<style scoped>\n",
       "    .dataframe tbody tr th:only-of-type {\n",
       "        vertical-align: middle;\n",
       "    }\n",
       "\n",
       "    .dataframe tbody tr th {\n",
       "        vertical-align: top;\n",
       "    }\n",
       "\n",
       "    .dataframe thead th {\n",
       "        text-align: right;\n",
       "    }\n",
       "</style>\n",
       "<table border=\"1\" class=\"dataframe\">\n",
       "  <thead>\n",
       "    <tr style=\"text-align: right;\">\n",
       "      <th></th>\n",
       "      <th>0</th>\n",
       "      <th>1</th>\n",
       "      <th>2</th>\n",
       "      <th>3</th>\n",
       "      <th>4</th>\n",
       "      <th>5</th>\n",
       "      <th>6</th>\n",
       "      <th>7</th>\n",
       "      <th>8</th>\n",
       "      <th>9</th>\n",
       "      <th>...</th>\n",
       "      <th>324</th>\n",
       "      <th>325</th>\n",
       "      <th>326</th>\n",
       "      <th>327</th>\n",
       "      <th>328</th>\n",
       "      <th>329</th>\n",
       "      <th>330</th>\n",
       "      <th>331</th>\n",
       "      <th>332</th>\n",
       "      <th>333</th>\n",
       "    </tr>\n",
       "  </thead>\n",
       "  <tbody>\n",
       "    <tr>\n",
       "      <th>0</th>\n",
       "      <td>Mr K</td>\n",
       "      <td>0.280443</td>\n",
       "      <td>0.164788</td>\n",
       "      <td>0.576158</td>\n",
       "      <td>0.151404</td>\n",
       "      <td>0.975565</td>\n",
       "      <td>0.11682</td>\n",
       "      <td>0.402975</td>\n",
       "      <td>0.65939</td>\n",
       "      <td>0.668172</td>\n",
       "      <td>...</td>\n",
       "      <td>0.468724</td>\n",
       "      <td>0.210224</td>\n",
       "      <td>0.196285</td>\n",
       "      <td>0.293735</td>\n",
       "      <td>0.993826</td>\n",
       "      <td>0.636632</td>\n",
       "      <td>0.216527</td>\n",
       "      <td>0.566433</td>\n",
       "      <td>0.576656</td>\n",
       "      <td>0.346591</td>\n",
       "    </tr>\n",
       "    <tr>\n",
       "      <th>1</th>\n",
       "      <td>0.8528</td>\n",
       "      <td>0.541657</td>\n",
       "      <td>0.829936</td>\n",
       "      <td>0.725587</td>\n",
       "      <td>0.386941</td>\n",
       "      <td>0.38234</td>\n",
       "      <td>0.544403</td>\n",
       "      <td>0.477367</td>\n",
       "      <td>0.681436</td>\n",
       "      <td>0.191725</td>\n",
       "      <td>...</td>\n",
       "      <td>0.935355</td>\n",
       "      <td>0.04151</td>\n",
       "      <td>0.982135</td>\n",
       "      <td>0.875697</td>\n",
       "      <td>0.713284</td>\n",
       "      <td>0.87022</td>\n",
       "      <td>0.253091</td>\n",
       "      <td>0.520846</td>\n",
       "      <td>0.682031</td>\n",
       "      <td>0.870923</td>\n",
       "    </tr>\n",
       "    <tr>\n",
       "      <th>2</th>\n",
       "      <td>0.81141</td>\n",
       "      <td>0.745602</td>\n",
       "      <td>0.742871</td>\n",
       "      <td>0.690783</td>\n",
       "      <td>0.074762</td>\n",
       "      <td>0.992576</td>\n",
       "      <td>0.74137</td>\n",
       "      <td>0.236787</td>\n",
       "      <td>0.504227</td>\n",
       "      <td>0.776311</td>\n",
       "      <td>...</td>\n",
       "      <td>0.771616</td>\n",
       "      <td>0.24163</td>\n",
       "      <td>0.940998</td>\n",
       "      <td>0.71606</td>\n",
       "      <td>0.382863</td>\n",
       "      <td>0.952415</td>\n",
       "      <td>0.838126</td>\n",
       "      <td>0.851293</td>\n",
       "      <td>0.84713</td>\n",
       "      <td>0.518133</td>\n",
       "    </tr>\n",
       "    <tr>\n",
       "      <th>3</th>\n",
       "      <td>0.093145</td>\n",
       "      <td>0.430988</td>\n",
       "      <td>0.155112</td>\n",
       "      <td>0.577402</td>\n",
       "      <td>0.600241</td>\n",
       "      <td>0.334931</td>\n",
       "      <td>0.187499</td>\n",
       "      <td>0.622822</td>\n",
       "      <td>0.824014</td>\n",
       "      <td>0.219569</td>\n",
       "      <td>...</td>\n",
       "      <td>0.873381</td>\n",
       "      <td>0.49492</td>\n",
       "      <td>0.192238</td>\n",
       "      <td>0.324443</td>\n",
       "      <td>0.389828</td>\n",
       "      <td>0.5943</td>\n",
       "      <td>0.622757</td>\n",
       "      <td>0.647026</td>\n",
       "      <td>0.21949</td>\n",
       "      <td>0.05137</td>\n",
       "    </tr>\n",
       "    <tr>\n",
       "      <th>4</th>\n",
       "      <td>0.782726</td>\n",
       "      <td>0.349229</td>\n",
       "      <td>0.896396</td>\n",
       "      <td>0.186344</td>\n",
       "      <td>0.657859</td>\n",
       "      <td>0.046061</td>\n",
       "      <td>0.536582</td>\n",
       "      <td>0.607807</td>\n",
       "      <td>0.453169</td>\n",
       "      <td>0.445679</td>\n",
       "      <td>...</td>\n",
       "      <td>0.039358</td>\n",
       "      <td>0.306514</td>\n",
       "      <td>0.861641</td>\n",
       "      <td>0.043016</td>\n",
       "      <td>0.224541</td>\n",
       "      <td>0.619032</td>\n",
       "      <td>0.970453</td>\n",
       "      <td>0.172191</td>\n",
       "      <td>0.195513</td>\n",
       "      <td>0.333846</td>\n",
       "    </tr>\n",
       "  </tbody>\n",
       "</table>\n",
       "<p>5 rows × 334 columns</p>\n",
       "</div>"
      ],
      "text/plain": [
       "        0         1         2         3         4         5         6    \\\n",
       "0      Mr K  0.280443  0.164788  0.576158  0.151404  0.975565   0.11682   \n",
       "1    0.8528  0.541657  0.829936  0.725587  0.386941   0.38234  0.544403   \n",
       "2   0.81141  0.745602  0.742871  0.690783  0.074762  0.992576   0.74137   \n",
       "3  0.093145  0.430988  0.155112  0.577402  0.600241  0.334931  0.187499   \n",
       "4  0.782726  0.349229  0.896396  0.186344  0.657859  0.046061  0.536582   \n",
       "\n",
       "        7         8         9    ...       324       325       326       327  \\\n",
       "0  0.402975   0.65939  0.668172  ...  0.468724  0.210224  0.196285  0.293735   \n",
       "1  0.477367  0.681436  0.191725  ...  0.935355   0.04151  0.982135  0.875697   \n",
       "2  0.236787  0.504227  0.776311  ...  0.771616   0.24163  0.940998   0.71606   \n",
       "3  0.622822  0.824014  0.219569  ...  0.873381   0.49492  0.192238  0.324443   \n",
       "4  0.607807  0.453169  0.445679  ...  0.039358  0.306514  0.861641  0.043016   \n",
       "\n",
       "        328       329       330       331       332       333  \n",
       "0  0.993826  0.636632  0.216527  0.566433  0.576656  0.346591  \n",
       "1  0.713284   0.87022  0.253091  0.520846  0.682031  0.870923  \n",
       "2  0.382863  0.952415  0.838126  0.851293   0.84713  0.518133  \n",
       "3  0.389828    0.5943  0.622757  0.647026   0.21949   0.05137  \n",
       "4  0.224541  0.619032  0.970453  0.172191  0.195513  0.333846  \n",
       "\n",
       "[5 rows x 334 columns]"
      ]
     },
     "execution_count": 34,
     "metadata": {},
     "output_type": "execute_result"
    }
   ],
   "source": [
    "newdf.T"
   ]
  },
  {
   "cell_type": "code",
   "execution_count": 35,
   "id": "42786d6a",
   "metadata": {
    "execution": {
     "iopub.execute_input": "2022-12-12T20:51:02.589625Z",
     "iopub.status.busy": "2022-12-12T20:51:02.588982Z",
     "iopub.status.idle": "2022-12-12T20:51:02.602196Z",
     "shell.execute_reply": "2022-12-12T20:51:02.600778Z"
    },
    "papermill": {
     "duration": 0.03122,
     "end_time": "2022-12-12T20:51:02.604699",
     "exception": false,
     "start_time": "2022-12-12T20:51:02.573479",
     "status": "completed"
    },
    "tags": []
   },
   "outputs": [
    {
     "data": {
      "text/html": [
       "<div>\n",
       "<style scoped>\n",
       "    .dataframe tbody tr th:only-of-type {\n",
       "        vertical-align: middle;\n",
       "    }\n",
       "\n",
       "    .dataframe tbody tr th {\n",
       "        vertical-align: top;\n",
       "    }\n",
       "\n",
       "    .dataframe thead th {\n",
       "        text-align: right;\n",
       "    }\n",
       "</style>\n",
       "<table border=\"1\" class=\"dataframe\">\n",
       "  <thead>\n",
       "    <tr style=\"text-align: right;\">\n",
       "      <th></th>\n",
       "      <th>0</th>\n",
       "      <th>1</th>\n",
       "      <th>2</th>\n",
       "      <th>3</th>\n",
       "      <th>4</th>\n",
       "    </tr>\n",
       "  </thead>\n",
       "  <tbody>\n",
       "    <tr>\n",
       "      <th>0</th>\n",
       "      <td>Mr K</td>\n",
       "      <td>0.852800</td>\n",
       "      <td>0.811410</td>\n",
       "      <td>0.093145</td>\n",
       "      <td>0.782726</td>\n",
       "    </tr>\n",
       "    <tr>\n",
       "      <th>1</th>\n",
       "      <td>0.280443</td>\n",
       "      <td>0.541657</td>\n",
       "      <td>0.745602</td>\n",
       "      <td>0.430988</td>\n",
       "      <td>0.349229</td>\n",
       "    </tr>\n",
       "    <tr>\n",
       "      <th>2</th>\n",
       "      <td>0.164788</td>\n",
       "      <td>0.829936</td>\n",
       "      <td>0.742871</td>\n",
       "      <td>0.155112</td>\n",
       "      <td>0.896396</td>\n",
       "    </tr>\n",
       "    <tr>\n",
       "      <th>3</th>\n",
       "      <td>0.576158</td>\n",
       "      <td>0.725587</td>\n",
       "      <td>0.690783</td>\n",
       "      <td>0.577402</td>\n",
       "      <td>0.186344</td>\n",
       "    </tr>\n",
       "    <tr>\n",
       "      <th>4</th>\n",
       "      <td>0.151404</td>\n",
       "      <td>0.386941</td>\n",
       "      <td>0.074762</td>\n",
       "      <td>0.600241</td>\n",
       "      <td>0.657859</td>\n",
       "    </tr>\n",
       "  </tbody>\n",
       "</table>\n",
       "</div>"
      ],
      "text/plain": [
       "          0         1         2         3         4\n",
       "0      Mr K  0.852800  0.811410  0.093145  0.782726\n",
       "1  0.280443  0.541657  0.745602  0.430988  0.349229\n",
       "2  0.164788  0.829936  0.742871  0.155112  0.896396\n",
       "3  0.576158  0.725587  0.690783  0.577402  0.186344\n",
       "4  0.151404  0.386941  0.074762  0.600241  0.657859"
      ]
     },
     "execution_count": 35,
     "metadata": {},
     "output_type": "execute_result"
    }
   ],
   "source": [
    "newdf.head()"
   ]
  },
  {
   "cell_type": "code",
   "execution_count": 36,
   "id": "b3568b0f",
   "metadata": {
    "execution": {
     "iopub.execute_input": "2022-12-12T20:51:02.633346Z",
     "iopub.status.busy": "2022-12-12T20:51:02.632922Z",
     "iopub.status.idle": "2022-12-12T20:51:02.645703Z",
     "shell.execute_reply": "2022-12-12T20:51:02.644385Z"
    },
    "papermill": {
     "duration": 0.030381,
     "end_time": "2022-12-12T20:51:02.648445",
     "exception": false,
     "start_time": "2022-12-12T20:51:02.618064",
     "status": "completed"
    },
    "tags": []
   },
   "outputs": [
    {
     "data": {
      "text/html": [
       "<div>\n",
       "<style scoped>\n",
       "    .dataframe tbody tr th:only-of-type {\n",
       "        vertical-align: middle;\n",
       "    }\n",
       "\n",
       "    .dataframe tbody tr th {\n",
       "        vertical-align: top;\n",
       "    }\n",
       "\n",
       "    .dataframe thead th {\n",
       "        text-align: right;\n",
       "    }\n",
       "</style>\n",
       "<table border=\"1\" class=\"dataframe\">\n",
       "  <thead>\n",
       "    <tr style=\"text-align: right;\">\n",
       "      <th></th>\n",
       "      <th>0</th>\n",
       "      <th>1</th>\n",
       "      <th>2</th>\n",
       "      <th>3</th>\n",
       "      <th>4</th>\n",
       "    </tr>\n",
       "  </thead>\n",
       "  <tbody>\n",
       "    <tr>\n",
       "      <th>0</th>\n",
       "      <td>Mr K</td>\n",
       "      <td>0.852800</td>\n",
       "      <td>0.811410</td>\n",
       "      <td>0.093145</td>\n",
       "      <td>0.782726</td>\n",
       "    </tr>\n",
       "    <tr>\n",
       "      <th>1</th>\n",
       "      <td>0.280443</td>\n",
       "      <td>0.541657</td>\n",
       "      <td>0.745602</td>\n",
       "      <td>0.430988</td>\n",
       "      <td>0.349229</td>\n",
       "    </tr>\n",
       "    <tr>\n",
       "      <th>2</th>\n",
       "      <td>0.164788</td>\n",
       "      <td>0.829936</td>\n",
       "      <td>0.742871</td>\n",
       "      <td>0.155112</td>\n",
       "      <td>0.896396</td>\n",
       "    </tr>\n",
       "    <tr>\n",
       "      <th>3</th>\n",
       "      <td>0.576158</td>\n",
       "      <td>0.725587</td>\n",
       "      <td>0.690783</td>\n",
       "      <td>0.577402</td>\n",
       "      <td>0.186344</td>\n",
       "    </tr>\n",
       "    <tr>\n",
       "      <th>4</th>\n",
       "      <td>0.151404</td>\n",
       "      <td>0.386941</td>\n",
       "      <td>0.074762</td>\n",
       "      <td>0.600241</td>\n",
       "      <td>0.657859</td>\n",
       "    </tr>\n",
       "  </tbody>\n",
       "</table>\n",
       "</div>"
      ],
      "text/plain": [
       "          0         1         2         3         4\n",
       "0      Mr K  0.852800  0.811410  0.093145  0.782726\n",
       "1  0.280443  0.541657  0.745602  0.430988  0.349229\n",
       "2  0.164788  0.829936  0.742871  0.155112  0.896396\n",
       "3  0.576158  0.725587  0.690783  0.577402  0.186344\n",
       "4  0.151404  0.386941  0.074762  0.600241  0.657859"
      ]
     },
     "execution_count": 36,
     "metadata": {},
     "output_type": "execute_result"
    }
   ],
   "source": [
    "newdf.head()"
   ]
  },
  {
   "cell_type": "code",
   "execution_count": 37,
   "id": "487fc871",
   "metadata": {
    "execution": {
     "iopub.execute_input": "2022-12-12T20:51:02.677706Z",
     "iopub.status.busy": "2022-12-12T20:51:02.677323Z",
     "iopub.status.idle": "2022-12-12T20:51:02.696095Z",
     "shell.execute_reply": "2022-12-12T20:51:02.694967Z"
    },
    "papermill": {
     "duration": 0.036774,
     "end_time": "2022-12-12T20:51:02.698975",
     "exception": false,
     "start_time": "2022-12-12T20:51:02.662201",
     "status": "completed"
    },
    "tags": []
   },
   "outputs": [
    {
     "data": {
      "text/html": [
       "<div>\n",
       "<style scoped>\n",
       "    .dataframe tbody tr th:only-of-type {\n",
       "        vertical-align: middle;\n",
       "    }\n",
       "\n",
       "    .dataframe tbody tr th {\n",
       "        vertical-align: top;\n",
       "    }\n",
       "\n",
       "    .dataframe thead th {\n",
       "        text-align: right;\n",
       "    }\n",
       "</style>\n",
       "<table border=\"1\" class=\"dataframe\">\n",
       "  <thead>\n",
       "    <tr style=\"text-align: right;\">\n",
       "      <th></th>\n",
       "      <th>0</th>\n",
       "      <th>1</th>\n",
       "      <th>2</th>\n",
       "      <th>3</th>\n",
       "      <th>4</th>\n",
       "    </tr>\n",
       "  </thead>\n",
       "  <tbody>\n",
       "    <tr>\n",
       "      <th>333</th>\n",
       "      <td>0.346591</td>\n",
       "      <td>0.870923</td>\n",
       "      <td>0.518133</td>\n",
       "      <td>0.051370</td>\n",
       "      <td>0.333846</td>\n",
       "    </tr>\n",
       "    <tr>\n",
       "      <th>332</th>\n",
       "      <td>0.576656</td>\n",
       "      <td>0.682031</td>\n",
       "      <td>0.847130</td>\n",
       "      <td>0.219490</td>\n",
       "      <td>0.195513</td>\n",
       "    </tr>\n",
       "    <tr>\n",
       "      <th>331</th>\n",
       "      <td>0.566433</td>\n",
       "      <td>0.520846</td>\n",
       "      <td>0.851293</td>\n",
       "      <td>0.647026</td>\n",
       "      <td>0.172191</td>\n",
       "    </tr>\n",
       "    <tr>\n",
       "      <th>330</th>\n",
       "      <td>0.216527</td>\n",
       "      <td>0.253091</td>\n",
       "      <td>0.838126</td>\n",
       "      <td>0.622757</td>\n",
       "      <td>0.970453</td>\n",
       "    </tr>\n",
       "    <tr>\n",
       "      <th>329</th>\n",
       "      <td>0.636632</td>\n",
       "      <td>0.870220</td>\n",
       "      <td>0.952415</td>\n",
       "      <td>0.594300</td>\n",
       "      <td>0.619032</td>\n",
       "    </tr>\n",
       "    <tr>\n",
       "      <th>...</th>\n",
       "      <td>...</td>\n",
       "      <td>...</td>\n",
       "      <td>...</td>\n",
       "      <td>...</td>\n",
       "      <td>...</td>\n",
       "    </tr>\n",
       "    <tr>\n",
       "      <th>4</th>\n",
       "      <td>0.151404</td>\n",
       "      <td>0.386941</td>\n",
       "      <td>0.074762</td>\n",
       "      <td>0.600241</td>\n",
       "      <td>0.657859</td>\n",
       "    </tr>\n",
       "    <tr>\n",
       "      <th>3</th>\n",
       "      <td>0.576158</td>\n",
       "      <td>0.725587</td>\n",
       "      <td>0.690783</td>\n",
       "      <td>0.577402</td>\n",
       "      <td>0.186344</td>\n",
       "    </tr>\n",
       "    <tr>\n",
       "      <th>2</th>\n",
       "      <td>0.164788</td>\n",
       "      <td>0.829936</td>\n",
       "      <td>0.742871</td>\n",
       "      <td>0.155112</td>\n",
       "      <td>0.896396</td>\n",
       "    </tr>\n",
       "    <tr>\n",
       "      <th>1</th>\n",
       "      <td>0.280443</td>\n",
       "      <td>0.541657</td>\n",
       "      <td>0.745602</td>\n",
       "      <td>0.430988</td>\n",
       "      <td>0.349229</td>\n",
       "    </tr>\n",
       "    <tr>\n",
       "      <th>0</th>\n",
       "      <td>Mr K</td>\n",
       "      <td>0.852800</td>\n",
       "      <td>0.811410</td>\n",
       "      <td>0.093145</td>\n",
       "      <td>0.782726</td>\n",
       "    </tr>\n",
       "  </tbody>\n",
       "</table>\n",
       "<p>334 rows × 5 columns</p>\n",
       "</div>"
      ],
      "text/plain": [
       "            0         1         2         3         4\n",
       "333  0.346591  0.870923  0.518133  0.051370  0.333846\n",
       "332  0.576656  0.682031  0.847130  0.219490  0.195513\n",
       "331  0.566433  0.520846  0.851293  0.647026  0.172191\n",
       "330  0.216527  0.253091  0.838126  0.622757  0.970453\n",
       "329  0.636632  0.870220  0.952415  0.594300  0.619032\n",
       "..        ...       ...       ...       ...       ...\n",
       "4    0.151404  0.386941  0.074762  0.600241  0.657859\n",
       "3    0.576158  0.725587  0.690783  0.577402  0.186344\n",
       "2    0.164788  0.829936  0.742871  0.155112  0.896396\n",
       "1    0.280443  0.541657  0.745602  0.430988  0.349229\n",
       "0        Mr K  0.852800  0.811410  0.093145  0.782726\n",
       "\n",
       "[334 rows x 5 columns]"
      ]
     },
     "execution_count": 37,
     "metadata": {},
     "output_type": "execute_result"
    }
   ],
   "source": [
    "newdf.sort_index(axis=0,ascending=False)"
   ]
  },
  {
   "cell_type": "code",
   "execution_count": null,
   "id": "7ebc1f79",
   "metadata": {
    "papermill": {
     "duration": 0.013936,
     "end_time": "2022-12-12T20:51:02.726624",
     "exception": false,
     "start_time": "2022-12-12T20:51:02.712688",
     "status": "completed"
    },
    "tags": []
   },
   "outputs": [],
   "source": []
  }
 ],
 "metadata": {
  "kernelspec": {
   "display_name": "Python 3",
   "language": "python",
   "name": "python3"
  },
  "language_info": {
   "codemirror_mode": {
    "name": "ipython",
    "version": 3
   },
   "file_extension": ".py",
   "mimetype": "text/x-python",
   "name": "python",
   "nbconvert_exporter": "python",
   "pygments_lexer": "ipython3",
   "version": "3.7.12"
  },
  "papermill": {
   "default_parameters": {},
   "duration": 12.473381,
   "end_time": "2022-12-12T20:51:03.464595",
   "environment_variables": {},
   "exception": null,
   "input_path": "__notebook__.ipynb",
   "output_path": "__notebook__.ipynb",
   "parameters": {},
   "start_time": "2022-12-12T20:50:50.991214",
   "version": "2.3.4"
  }
 },
 "nbformat": 4,
 "nbformat_minor": 5
}
